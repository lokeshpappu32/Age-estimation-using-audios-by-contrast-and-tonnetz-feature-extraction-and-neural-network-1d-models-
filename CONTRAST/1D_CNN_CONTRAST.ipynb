{
  "nbformat": 4,
  "nbformat_minor": 0,
  "metadata": {
    "colab": {
      "provenance": []
    },
    "kernelspec": {
      "name": "python3",
      "display_name": "Python 3"
    },
    "language_info": {
      "name": "python"
    }
  },
  "cells": [
    {
      "cell_type": "code",
      "execution_count": 2,
      "metadata": {
        "id": "iioLPTFD3LmI"
      },
      "outputs": [],
      "source": [
        "import pandas as pd\n",
        "import numpy as np\n",
        "from sklearn.preprocessing import MinMaxScaler,LabelEncoder"
      ]
    },
    {
      "cell_type": "code",
      "source": [
        "data=pd.read_csv(\"/content/CONTRAST_MAIN_DATASET.csv\")"
      ],
      "metadata": {
        "id": "bYeHZNaV3wo0"
      },
      "execution_count": 3,
      "outputs": []
    },
    {
      "cell_type": "code",
      "source": [
        "data.head()"
      ],
      "metadata": {
        "colab": {
          "base_uri": "https://localhost:8080/",
          "height": 206
        },
        "id": "XtW2IHAv38Ut",
        "outputId": "2b65d427-de27-400a-8995-28ff0d2cc127"
      },
      "execution_count": 4,
      "outputs": [
        {
          "output_type": "execute_result",
          "data": {
            "text/plain": [
              "           0          1          2          3          4          5  \\\n",
              "0  17.608974  12.065717  15.571728  15.820102  16.889392  21.376224   \n",
              "1  17.873691  10.906630  14.776166  14.746004  16.546733  21.244601   \n",
              "2  16.731672  11.942405  15.202992  15.605393  16.853212  23.102682   \n",
              "3  17.411621  12.565404  16.466645  15.366726  17.446967  23.620346   \n",
              "4  16.476659  11.553081  15.002390  15.148348  18.400752  20.529418   \n",
              "\n",
              "           6 gender  label  \n",
              "0  55.152019   male  adult  \n",
              "1  54.507099   male  adult  \n",
              "2  54.276696   male  adult  \n",
              "3  54.526797   male  adult  \n",
              "4  53.335576   male  adult  "
            ],
            "text/html": [
              "\n",
              "  <div id=\"df-24fe9e6a-c32c-466e-9d1b-7bfe48ffc089\">\n",
              "    <div class=\"colab-df-container\">\n",
              "      <div>\n",
              "<style scoped>\n",
              "    .dataframe tbody tr th:only-of-type {\n",
              "        vertical-align: middle;\n",
              "    }\n",
              "\n",
              "    .dataframe tbody tr th {\n",
              "        vertical-align: top;\n",
              "    }\n",
              "\n",
              "    .dataframe thead th {\n",
              "        text-align: right;\n",
              "    }\n",
              "</style>\n",
              "<table border=\"1\" class=\"dataframe\">\n",
              "  <thead>\n",
              "    <tr style=\"text-align: right;\">\n",
              "      <th></th>\n",
              "      <th>0</th>\n",
              "      <th>1</th>\n",
              "      <th>2</th>\n",
              "      <th>3</th>\n",
              "      <th>4</th>\n",
              "      <th>5</th>\n",
              "      <th>6</th>\n",
              "      <th>gender</th>\n",
              "      <th>label</th>\n",
              "    </tr>\n",
              "  </thead>\n",
              "  <tbody>\n",
              "    <tr>\n",
              "      <th>0</th>\n",
              "      <td>17.608974</td>\n",
              "      <td>12.065717</td>\n",
              "      <td>15.571728</td>\n",
              "      <td>15.820102</td>\n",
              "      <td>16.889392</td>\n",
              "      <td>21.376224</td>\n",
              "      <td>55.152019</td>\n",
              "      <td>male</td>\n",
              "      <td>adult</td>\n",
              "    </tr>\n",
              "    <tr>\n",
              "      <th>1</th>\n",
              "      <td>17.873691</td>\n",
              "      <td>10.906630</td>\n",
              "      <td>14.776166</td>\n",
              "      <td>14.746004</td>\n",
              "      <td>16.546733</td>\n",
              "      <td>21.244601</td>\n",
              "      <td>54.507099</td>\n",
              "      <td>male</td>\n",
              "      <td>adult</td>\n",
              "    </tr>\n",
              "    <tr>\n",
              "      <th>2</th>\n",
              "      <td>16.731672</td>\n",
              "      <td>11.942405</td>\n",
              "      <td>15.202992</td>\n",
              "      <td>15.605393</td>\n",
              "      <td>16.853212</td>\n",
              "      <td>23.102682</td>\n",
              "      <td>54.276696</td>\n",
              "      <td>male</td>\n",
              "      <td>adult</td>\n",
              "    </tr>\n",
              "    <tr>\n",
              "      <th>3</th>\n",
              "      <td>17.411621</td>\n",
              "      <td>12.565404</td>\n",
              "      <td>16.466645</td>\n",
              "      <td>15.366726</td>\n",
              "      <td>17.446967</td>\n",
              "      <td>23.620346</td>\n",
              "      <td>54.526797</td>\n",
              "      <td>male</td>\n",
              "      <td>adult</td>\n",
              "    </tr>\n",
              "    <tr>\n",
              "      <th>4</th>\n",
              "      <td>16.476659</td>\n",
              "      <td>11.553081</td>\n",
              "      <td>15.002390</td>\n",
              "      <td>15.148348</td>\n",
              "      <td>18.400752</td>\n",
              "      <td>20.529418</td>\n",
              "      <td>53.335576</td>\n",
              "      <td>male</td>\n",
              "      <td>adult</td>\n",
              "    </tr>\n",
              "  </tbody>\n",
              "</table>\n",
              "</div>\n",
              "      <button class=\"colab-df-convert\" onclick=\"convertToInteractive('df-24fe9e6a-c32c-466e-9d1b-7bfe48ffc089')\"\n",
              "              title=\"Convert this dataframe to an interactive table.\"\n",
              "              style=\"display:none;\">\n",
              "        \n",
              "  <svg xmlns=\"http://www.w3.org/2000/svg\" height=\"24px\"viewBox=\"0 0 24 24\"\n",
              "       width=\"24px\">\n",
              "    <path d=\"M0 0h24v24H0V0z\" fill=\"none\"/>\n",
              "    <path d=\"M18.56 5.44l.94 2.06.94-2.06 2.06-.94-2.06-.94-.94-2.06-.94 2.06-2.06.94zm-11 1L8.5 8.5l.94-2.06 2.06-.94-2.06-.94L8.5 2.5l-.94 2.06-2.06.94zm10 10l.94 2.06.94-2.06 2.06-.94-2.06-.94-.94-2.06-.94 2.06-2.06.94z\"/><path d=\"M17.41 7.96l-1.37-1.37c-.4-.4-.92-.59-1.43-.59-.52 0-1.04.2-1.43.59L10.3 9.45l-7.72 7.72c-.78.78-.78 2.05 0 2.83L4 21.41c.39.39.9.59 1.41.59.51 0 1.02-.2 1.41-.59l7.78-7.78 2.81-2.81c.8-.78.8-2.07 0-2.86zM5.41 20L4 18.59l7.72-7.72 1.47 1.35L5.41 20z\"/>\n",
              "  </svg>\n",
              "      </button>\n",
              "      \n",
              "  <style>\n",
              "    .colab-df-container {\n",
              "      display:flex;\n",
              "      flex-wrap:wrap;\n",
              "      gap: 12px;\n",
              "    }\n",
              "\n",
              "    .colab-df-convert {\n",
              "      background-color: #E8F0FE;\n",
              "      border: none;\n",
              "      border-radius: 50%;\n",
              "      cursor: pointer;\n",
              "      display: none;\n",
              "      fill: #1967D2;\n",
              "      height: 32px;\n",
              "      padding: 0 0 0 0;\n",
              "      width: 32px;\n",
              "    }\n",
              "\n",
              "    .colab-df-convert:hover {\n",
              "      background-color: #E2EBFA;\n",
              "      box-shadow: 0px 1px 2px rgba(60, 64, 67, 0.3), 0px 1px 3px 1px rgba(60, 64, 67, 0.15);\n",
              "      fill: #174EA6;\n",
              "    }\n",
              "\n",
              "    [theme=dark] .colab-df-convert {\n",
              "      background-color: #3B4455;\n",
              "      fill: #D2E3FC;\n",
              "    }\n",
              "\n",
              "    [theme=dark] .colab-df-convert:hover {\n",
              "      background-color: #434B5C;\n",
              "      box-shadow: 0px 1px 3px 1px rgba(0, 0, 0, 0.15);\n",
              "      filter: drop-shadow(0px 1px 2px rgba(0, 0, 0, 0.3));\n",
              "      fill: #FFFFFF;\n",
              "    }\n",
              "  </style>\n",
              "\n",
              "      <script>\n",
              "        const buttonEl =\n",
              "          document.querySelector('#df-24fe9e6a-c32c-466e-9d1b-7bfe48ffc089 button.colab-df-convert');\n",
              "        buttonEl.style.display =\n",
              "          google.colab.kernel.accessAllowed ? 'block' : 'none';\n",
              "\n",
              "        async function convertToInteractive(key) {\n",
              "          const element = document.querySelector('#df-24fe9e6a-c32c-466e-9d1b-7bfe48ffc089');\n",
              "          const dataTable =\n",
              "            await google.colab.kernel.invokeFunction('convertToInteractive',\n",
              "                                                     [key], {});\n",
              "          if (!dataTable) return;\n",
              "\n",
              "          const docLinkHtml = 'Like what you see? Visit the ' +\n",
              "            '<a target=\"_blank\" href=https://colab.research.google.com/notebooks/data_table.ipynb>data table notebook</a>'\n",
              "            + ' to learn more about interactive tables.';\n",
              "          element.innerHTML = '';\n",
              "          dataTable['output_type'] = 'display_data';\n",
              "          await google.colab.output.renderOutput(dataTable, element);\n",
              "          const docLink = document.createElement('div');\n",
              "          docLink.innerHTML = docLinkHtml;\n",
              "          element.appendChild(docLink);\n",
              "        }\n",
              "      </script>\n",
              "    </div>\n",
              "  </div>\n",
              "  "
            ]
          },
          "metadata": {},
          "execution_count": 4
        }
      ]
    },
    {
      "cell_type": "code",
      "source": [
        "data.isnull().sum()"
      ],
      "metadata": {
        "colab": {
          "base_uri": "https://localhost:8080/"
        },
        "id": "xXuTyfMr3-bV",
        "outputId": "b5aa79a4-ef98-4c22-a16e-48dd85ff66f5"
      },
      "execution_count": 5,
      "outputs": [
        {
          "output_type": "execute_result",
          "data": {
            "text/plain": [
              "0         0\n",
              "1         0\n",
              "2         0\n",
              "3         0\n",
              "4         0\n",
              "5         0\n",
              "6         0\n",
              "gender    0\n",
              "label     0\n",
              "dtype: int64"
            ]
          },
          "metadata": {},
          "execution_count": 5
        }
      ]
    },
    {
      "cell_type": "code",
      "source": [
        "data.describe()"
      ],
      "metadata": {
        "colab": {
          "base_uri": "https://localhost:8080/",
          "height": 300
        },
        "id": "W4nLbpkK4CfA",
        "outputId": "3b225686-fbc2-4641-ad0c-f4f65e7b9ddf"
      },
      "execution_count": 6,
      "outputs": [
        {
          "output_type": "execute_result",
          "data": {
            "text/plain": [
              "                 0            1            2            3            4  \\\n",
              "count  3000.000000  3000.000000  3000.000000  3000.000000  3000.000000   \n",
              "mean     15.054482    14.319642    17.827896    18.777976    20.144440   \n",
              "std       2.813556     1.345302     1.489982     1.993533     1.600574   \n",
              "min       9.870360     9.559386    11.622897    13.690452    13.998341   \n",
              "25%      12.494007    13.418963    17.001969    17.201948    19.133750   \n",
              "50%      15.140901    14.379749    17.906306    18.703296    20.109880   \n",
              "75%      17.236480    15.268870    18.732714    20.238855    21.197938   \n",
              "max      24.864515    18.939024    23.216445    27.987939    25.915826   \n",
              "\n",
              "                 5            6  \n",
              "count  3000.000000  3000.000000  \n",
              "mean     23.299326    38.346320  \n",
              "std       2.274480    12.304000  \n",
              "min      14.335927    18.563621  \n",
              "25%      21.843361    26.354443  \n",
              "50%      23.055719    36.482709  \n",
              "75%      24.336521    49.380829  \n",
              "max      35.138256    60.311814  "
            ],
            "text/html": [
              "\n",
              "  <div id=\"df-b2d66057-cb04-47b0-b6bf-18ca6c8ce5d2\">\n",
              "    <div class=\"colab-df-container\">\n",
              "      <div>\n",
              "<style scoped>\n",
              "    .dataframe tbody tr th:only-of-type {\n",
              "        vertical-align: middle;\n",
              "    }\n",
              "\n",
              "    .dataframe tbody tr th {\n",
              "        vertical-align: top;\n",
              "    }\n",
              "\n",
              "    .dataframe thead th {\n",
              "        text-align: right;\n",
              "    }\n",
              "</style>\n",
              "<table border=\"1\" class=\"dataframe\">\n",
              "  <thead>\n",
              "    <tr style=\"text-align: right;\">\n",
              "      <th></th>\n",
              "      <th>0</th>\n",
              "      <th>1</th>\n",
              "      <th>2</th>\n",
              "      <th>3</th>\n",
              "      <th>4</th>\n",
              "      <th>5</th>\n",
              "      <th>6</th>\n",
              "    </tr>\n",
              "  </thead>\n",
              "  <tbody>\n",
              "    <tr>\n",
              "      <th>count</th>\n",
              "      <td>3000.000000</td>\n",
              "      <td>3000.000000</td>\n",
              "      <td>3000.000000</td>\n",
              "      <td>3000.000000</td>\n",
              "      <td>3000.000000</td>\n",
              "      <td>3000.000000</td>\n",
              "      <td>3000.000000</td>\n",
              "    </tr>\n",
              "    <tr>\n",
              "      <th>mean</th>\n",
              "      <td>15.054482</td>\n",
              "      <td>14.319642</td>\n",
              "      <td>17.827896</td>\n",
              "      <td>18.777976</td>\n",
              "      <td>20.144440</td>\n",
              "      <td>23.299326</td>\n",
              "      <td>38.346320</td>\n",
              "    </tr>\n",
              "    <tr>\n",
              "      <th>std</th>\n",
              "      <td>2.813556</td>\n",
              "      <td>1.345302</td>\n",
              "      <td>1.489982</td>\n",
              "      <td>1.993533</td>\n",
              "      <td>1.600574</td>\n",
              "      <td>2.274480</td>\n",
              "      <td>12.304000</td>\n",
              "    </tr>\n",
              "    <tr>\n",
              "      <th>min</th>\n",
              "      <td>9.870360</td>\n",
              "      <td>9.559386</td>\n",
              "      <td>11.622897</td>\n",
              "      <td>13.690452</td>\n",
              "      <td>13.998341</td>\n",
              "      <td>14.335927</td>\n",
              "      <td>18.563621</td>\n",
              "    </tr>\n",
              "    <tr>\n",
              "      <th>25%</th>\n",
              "      <td>12.494007</td>\n",
              "      <td>13.418963</td>\n",
              "      <td>17.001969</td>\n",
              "      <td>17.201948</td>\n",
              "      <td>19.133750</td>\n",
              "      <td>21.843361</td>\n",
              "      <td>26.354443</td>\n",
              "    </tr>\n",
              "    <tr>\n",
              "      <th>50%</th>\n",
              "      <td>15.140901</td>\n",
              "      <td>14.379749</td>\n",
              "      <td>17.906306</td>\n",
              "      <td>18.703296</td>\n",
              "      <td>20.109880</td>\n",
              "      <td>23.055719</td>\n",
              "      <td>36.482709</td>\n",
              "    </tr>\n",
              "    <tr>\n",
              "      <th>75%</th>\n",
              "      <td>17.236480</td>\n",
              "      <td>15.268870</td>\n",
              "      <td>18.732714</td>\n",
              "      <td>20.238855</td>\n",
              "      <td>21.197938</td>\n",
              "      <td>24.336521</td>\n",
              "      <td>49.380829</td>\n",
              "    </tr>\n",
              "    <tr>\n",
              "      <th>max</th>\n",
              "      <td>24.864515</td>\n",
              "      <td>18.939024</td>\n",
              "      <td>23.216445</td>\n",
              "      <td>27.987939</td>\n",
              "      <td>25.915826</td>\n",
              "      <td>35.138256</td>\n",
              "      <td>60.311814</td>\n",
              "    </tr>\n",
              "  </tbody>\n",
              "</table>\n",
              "</div>\n",
              "      <button class=\"colab-df-convert\" onclick=\"convertToInteractive('df-b2d66057-cb04-47b0-b6bf-18ca6c8ce5d2')\"\n",
              "              title=\"Convert this dataframe to an interactive table.\"\n",
              "              style=\"display:none;\">\n",
              "        \n",
              "  <svg xmlns=\"http://www.w3.org/2000/svg\" height=\"24px\"viewBox=\"0 0 24 24\"\n",
              "       width=\"24px\">\n",
              "    <path d=\"M0 0h24v24H0V0z\" fill=\"none\"/>\n",
              "    <path d=\"M18.56 5.44l.94 2.06.94-2.06 2.06-.94-2.06-.94-.94-2.06-.94 2.06-2.06.94zm-11 1L8.5 8.5l.94-2.06 2.06-.94-2.06-.94L8.5 2.5l-.94 2.06-2.06.94zm10 10l.94 2.06.94-2.06 2.06-.94-2.06-.94-.94-2.06-.94 2.06-2.06.94z\"/><path d=\"M17.41 7.96l-1.37-1.37c-.4-.4-.92-.59-1.43-.59-.52 0-1.04.2-1.43.59L10.3 9.45l-7.72 7.72c-.78.78-.78 2.05 0 2.83L4 21.41c.39.39.9.59 1.41.59.51 0 1.02-.2 1.41-.59l7.78-7.78 2.81-2.81c.8-.78.8-2.07 0-2.86zM5.41 20L4 18.59l7.72-7.72 1.47 1.35L5.41 20z\"/>\n",
              "  </svg>\n",
              "      </button>\n",
              "      \n",
              "  <style>\n",
              "    .colab-df-container {\n",
              "      display:flex;\n",
              "      flex-wrap:wrap;\n",
              "      gap: 12px;\n",
              "    }\n",
              "\n",
              "    .colab-df-convert {\n",
              "      background-color: #E8F0FE;\n",
              "      border: none;\n",
              "      border-radius: 50%;\n",
              "      cursor: pointer;\n",
              "      display: none;\n",
              "      fill: #1967D2;\n",
              "      height: 32px;\n",
              "      padding: 0 0 0 0;\n",
              "      width: 32px;\n",
              "    }\n",
              "\n",
              "    .colab-df-convert:hover {\n",
              "      background-color: #E2EBFA;\n",
              "      box-shadow: 0px 1px 2px rgba(60, 64, 67, 0.3), 0px 1px 3px 1px rgba(60, 64, 67, 0.15);\n",
              "      fill: #174EA6;\n",
              "    }\n",
              "\n",
              "    [theme=dark] .colab-df-convert {\n",
              "      background-color: #3B4455;\n",
              "      fill: #D2E3FC;\n",
              "    }\n",
              "\n",
              "    [theme=dark] .colab-df-convert:hover {\n",
              "      background-color: #434B5C;\n",
              "      box-shadow: 0px 1px 3px 1px rgba(0, 0, 0, 0.15);\n",
              "      filter: drop-shadow(0px 1px 2px rgba(0, 0, 0, 0.3));\n",
              "      fill: #FFFFFF;\n",
              "    }\n",
              "  </style>\n",
              "\n",
              "      <script>\n",
              "        const buttonEl =\n",
              "          document.querySelector('#df-b2d66057-cb04-47b0-b6bf-18ca6c8ce5d2 button.colab-df-convert');\n",
              "        buttonEl.style.display =\n",
              "          google.colab.kernel.accessAllowed ? 'block' : 'none';\n",
              "\n",
              "        async function convertToInteractive(key) {\n",
              "          const element = document.querySelector('#df-b2d66057-cb04-47b0-b6bf-18ca6c8ce5d2');\n",
              "          const dataTable =\n",
              "            await google.colab.kernel.invokeFunction('convertToInteractive',\n",
              "                                                     [key], {});\n",
              "          if (!dataTable) return;\n",
              "\n",
              "          const docLinkHtml = 'Like what you see? Visit the ' +\n",
              "            '<a target=\"_blank\" href=https://colab.research.google.com/notebooks/data_table.ipynb>data table notebook</a>'\n",
              "            + ' to learn more about interactive tables.';\n",
              "          element.innerHTML = '';\n",
              "          dataTable['output_type'] = 'display_data';\n",
              "          await google.colab.output.renderOutput(dataTable, element);\n",
              "          const docLink = document.createElement('div');\n",
              "          docLink.innerHTML = docLinkHtml;\n",
              "          element.appendChild(docLink);\n",
              "        }\n",
              "      </script>\n",
              "    </div>\n",
              "  </div>\n",
              "  "
            ]
          },
          "metadata": {},
          "execution_count": 6
        }
      ]
    },
    {
      "cell_type": "code",
      "source": [
        "data.info()"
      ],
      "metadata": {
        "colab": {
          "base_uri": "https://localhost:8080/"
        },
        "id": "JX2BRu834FCD",
        "outputId": "9a1ad692-1969-4c91-fc3e-9e08abac5a59"
      },
      "execution_count": 7,
      "outputs": [
        {
          "output_type": "stream",
          "name": "stdout",
          "text": [
            "<class 'pandas.core.frame.DataFrame'>\n",
            "RangeIndex: 3000 entries, 0 to 2999\n",
            "Data columns (total 9 columns):\n",
            " #   Column  Non-Null Count  Dtype  \n",
            "---  ------  --------------  -----  \n",
            " 0   0       3000 non-null   float64\n",
            " 1   1       3000 non-null   float64\n",
            " 2   2       3000 non-null   float64\n",
            " 3   3       3000 non-null   float64\n",
            " 4   4       3000 non-null   float64\n",
            " 5   5       3000 non-null   float64\n",
            " 6   6       3000 non-null   float64\n",
            " 7   gender  3000 non-null   object \n",
            " 8   label   3000 non-null   object \n",
            "dtypes: float64(7), object(2)\n",
            "memory usage: 211.1+ KB\n"
          ]
        }
      ]
    },
    {
      "cell_type": "code",
      "source": [
        "x=data.iloc[:,:-2]"
      ],
      "metadata": {
        "id": "pnYbt13L4GMW"
      },
      "execution_count": 8,
      "outputs": []
    },
    {
      "cell_type": "code",
      "source": [
        "y=data.iloc[:,-1]"
      ],
      "metadata": {
        "id": "VrKN9ySV4KO9"
      },
      "execution_count": 9,
      "outputs": []
    },
    {
      "cell_type": "code",
      "source": [
        "scaler=MinMaxScaler()\n",
        "x_scaled=scaler.fit_transform(x)\n",
        "x_scaled[0]"
      ],
      "metadata": {
        "colab": {
          "base_uri": "https://localhost:8080/"
        },
        "id": "cp-Vyoq84MNS",
        "outputId": "9c5003dc-010e-4d8e-e224-da09eaefd5f1"
      },
      "execution_count": 17,
      "outputs": [
        {
          "output_type": "execute_result",
          "data": {
            "text/plain": [
              "array([0.51610874, 0.26720983, 0.34060596, 0.14895276, 0.24258903,\n",
              "       0.33843789, 0.87640675])"
            ]
          },
          "metadata": {},
          "execution_count": 17
        }
      ]
    },
    {
      "cell_type": "code",
      "source": [
        "label_encoder=LabelEncoder()\n",
        "y=label_encoder.fit_transform(y)\n",
        "y"
      ],
      "metadata": {
        "colab": {
          "base_uri": "https://localhost:8080/"
        },
        "id": "dT_85-I34Xp_",
        "outputId": "cce624da-9682-41e3-a06f-37da4b36ed4f"
      },
      "execution_count": 13,
      "outputs": [
        {
          "output_type": "execute_result",
          "data": {
            "text/plain": [
              "array([0, 0, 0, ..., 1, 1, 1])"
            ]
          },
          "metadata": {},
          "execution_count": 13
        }
      ]
    },
    {
      "cell_type": "code",
      "source": [
        "import numpy as np\n",
        "import random\n",
        "import tensorflow as tf\n",
        "\n",
        "# Set random seed for reproducibility\n",
        "np.random.seed(42)\n",
        "random.seed(42)\n",
        "tf.random.set_seed(42)"
      ],
      "metadata": {
        "id": "oygn9aRz4xZS"
      },
      "execution_count": 14,
      "outputs": []
    },
    {
      "cell_type": "code",
      "source": [
        "from sklearn.model_selection import train_test_split\n",
        "x_train, x_test, y_train, y_test = train_test_split(x_scaled, y, test_size=0.15, random_state=42)"
      ],
      "metadata": {
        "id": "ROjd5qDo43T5"
      },
      "execution_count": 28,
      "outputs": []
    },
    {
      "cell_type": "code",
      "source": [
        "x_train = np.array(x_train).reshape(-1, 7, 1)\n",
        "x_test = np.array(x_test).reshape(-1, 7, 1)"
      ],
      "metadata": {
        "id": "8Uu6AV4U48au"
      },
      "execution_count": 29,
      "outputs": []
    },
    {
      "cell_type": "code",
      "source": [
        "from tensorflow.keras.models import Sequential\n",
        "from tensorflow.keras.layers import Conv1D, MaxPooling1D, Flatten, Dense,Dropout"
      ],
      "metadata": {
        "id": "qY9h4HQ65AZ_"
      },
      "execution_count": 30,
      "outputs": []
    },
    {
      "cell_type": "code",
      "source": [
        "# Create a Conv1D model\n",
        "model = Sequential()\n",
        "model.add(Conv1D(32, kernel_size=3, activation='tanh', input_shape=(7, 1)))\n",
        "model.add(Dropout(0.2))\n",
        "model.add(MaxPooling1D(pool_size=2))\n",
        "model.add(Dropout(0.2))\n",
        "model.add(Flatten())\n",
        "model.add(Dense(128, activation='tanh'))\n",
        "model.add(Dropout(0.2))\n",
        "model.add(Dense(1, activation='sigmoid'))"
      ],
      "metadata": {
        "id": "9dZ5Pg-P5MBp"
      },
      "execution_count": 35,
      "outputs": []
    },
    {
      "cell_type": "code",
      "source": [
        "# Compile and train the model\n",
        "model.compile(loss='binary_crossentropy', optimizer='adam', metrics=['accuracy'])\n",
        "model.fit(x_train, y_train, epochs=27, batch_size=32, validation_data=(x_test, y_test))"
      ],
      "metadata": {
        "colab": {
          "base_uri": "https://localhost:8080/"
        },
        "id": "YJkqphOI50oF",
        "outputId": "b44d0bbe-20b6-4fb6-e612-9c4c52255baf"
      },
      "execution_count": 37,
      "outputs": [
        {
          "output_type": "stream",
          "name": "stdout",
          "text": [
            "Epoch 1/27\n",
            "80/80 [==============================] - 1s 6ms/step - loss: 0.2633 - accuracy: 0.9094 - val_loss: 0.2293 - val_accuracy: 0.9289\n",
            "Epoch 2/27\n",
            "80/80 [==============================] - 0s 5ms/step - loss: 0.2546 - accuracy: 0.9106 - val_loss: 0.2260 - val_accuracy: 0.9333\n",
            "Epoch 3/27\n",
            "80/80 [==============================] - 0s 5ms/step - loss: 0.2649 - accuracy: 0.9051 - val_loss: 0.2416 - val_accuracy: 0.9067\n",
            "Epoch 4/27\n",
            "80/80 [==============================] - 0s 5ms/step - loss: 0.2507 - accuracy: 0.9141 - val_loss: 0.2263 - val_accuracy: 0.9267\n",
            "Epoch 5/27\n",
            "80/80 [==============================] - 0s 5ms/step - loss: 0.2386 - accuracy: 0.9212 - val_loss: 0.2224 - val_accuracy: 0.9311\n",
            "Epoch 6/27\n",
            "80/80 [==============================] - 0s 5ms/step - loss: 0.2400 - accuracy: 0.9161 - val_loss: 0.2227 - val_accuracy: 0.9289\n",
            "Epoch 7/27\n",
            "80/80 [==============================] - 0s 6ms/step - loss: 0.2575 - accuracy: 0.9114 - val_loss: 0.2286 - val_accuracy: 0.9133\n",
            "Epoch 8/27\n",
            "80/80 [==============================] - 0s 5ms/step - loss: 0.2484 - accuracy: 0.9094 - val_loss: 0.2205 - val_accuracy: 0.9289\n",
            "Epoch 9/27\n",
            "80/80 [==============================] - 0s 3ms/step - loss: 0.2383 - accuracy: 0.9165 - val_loss: 0.2210 - val_accuracy: 0.9267\n",
            "Epoch 10/27\n",
            "80/80 [==============================] - 0s 3ms/step - loss: 0.2484 - accuracy: 0.9137 - val_loss: 0.2395 - val_accuracy: 0.9089\n",
            "Epoch 11/27\n",
            "80/80 [==============================] - 0s 3ms/step - loss: 0.2582 - accuracy: 0.9027 - val_loss: 0.2349 - val_accuracy: 0.9133\n",
            "Epoch 12/27\n",
            "80/80 [==============================] - 0s 3ms/step - loss: 0.2483 - accuracy: 0.9098 - val_loss: 0.2177 - val_accuracy: 0.9333\n",
            "Epoch 13/27\n",
            "80/80 [==============================] - 0s 3ms/step - loss: 0.2407 - accuracy: 0.9090 - val_loss: 0.2223 - val_accuracy: 0.9244\n",
            "Epoch 14/27\n",
            "80/80 [==============================] - 0s 3ms/step - loss: 0.2409 - accuracy: 0.9118 - val_loss: 0.2292 - val_accuracy: 0.9067\n",
            "Epoch 15/27\n",
            "80/80 [==============================] - 0s 3ms/step - loss: 0.2539 - accuracy: 0.9067 - val_loss: 0.2170 - val_accuracy: 0.9311\n",
            "Epoch 16/27\n",
            "80/80 [==============================] - 0s 4ms/step - loss: 0.2427 - accuracy: 0.9110 - val_loss: 0.2291 - val_accuracy: 0.9156\n",
            "Epoch 17/27\n",
            "80/80 [==============================] - 0s 4ms/step - loss: 0.2545 - accuracy: 0.9145 - val_loss: 0.2300 - val_accuracy: 0.9089\n",
            "Epoch 18/27\n",
            "80/80 [==============================] - 0s 3ms/step - loss: 0.2488 - accuracy: 0.9106 - val_loss: 0.2145 - val_accuracy: 0.9267\n",
            "Epoch 19/27\n",
            "80/80 [==============================] - 0s 4ms/step - loss: 0.2498 - accuracy: 0.9129 - val_loss: 0.2169 - val_accuracy: 0.9222\n",
            "Epoch 20/27\n",
            "80/80 [==============================] - 0s 3ms/step - loss: 0.2394 - accuracy: 0.9173 - val_loss: 0.2232 - val_accuracy: 0.9178\n",
            "Epoch 21/27\n",
            "80/80 [==============================] - 0s 4ms/step - loss: 0.2513 - accuracy: 0.9137 - val_loss: 0.2152 - val_accuracy: 0.9311\n",
            "Epoch 22/27\n",
            "80/80 [==============================] - 0s 4ms/step - loss: 0.2463 - accuracy: 0.9149 - val_loss: 0.2165 - val_accuracy: 0.9244\n",
            "Epoch 23/27\n",
            "80/80 [==============================] - 0s 4ms/step - loss: 0.2448 - accuracy: 0.9125 - val_loss: 0.2144 - val_accuracy: 0.9289\n",
            "Epoch 24/27\n",
            "80/80 [==============================] - 0s 3ms/step - loss: 0.2482 - accuracy: 0.9133 - val_loss: 0.2240 - val_accuracy: 0.9089\n",
            "Epoch 25/27\n",
            "80/80 [==============================] - 0s 3ms/step - loss: 0.2383 - accuracy: 0.9122 - val_loss: 0.2196 - val_accuracy: 0.9289\n",
            "Epoch 26/27\n",
            "80/80 [==============================] - 0s 4ms/step - loss: 0.2473 - accuracy: 0.9082 - val_loss: 0.2100 - val_accuracy: 0.9311\n",
            "Epoch 27/27\n",
            "80/80 [==============================] - 0s 3ms/step - loss: 0.2403 - accuracy: 0.9110 - val_loss: 0.2283 - val_accuracy: 0.9067\n"
          ]
        },
        {
          "output_type": "execute_result",
          "data": {
            "text/plain": [
              "<keras.callbacks.History at 0x7fb81357d030>"
            ]
          },
          "metadata": {},
          "execution_count": 37
        }
      ]
    },
    {
      "cell_type": "code",
      "source": [
        "loss, accuracy = model.evaluate(x_test, y_test)\n",
        "print('Test Loss:', loss)\n",
        "print('Test Accuracy:', accuracy)"
      ],
      "metadata": {
        "colab": {
          "base_uri": "https://localhost:8080/"
        },
        "id": "B375347653P9",
        "outputId": "5aa6bafb-e1fa-4ebb-b1ce-725b3074193c"
      },
      "execution_count": 38,
      "outputs": [
        {
          "output_type": "stream",
          "name": "stdout",
          "text": [
            "15/15 [==============================] - 0s 3ms/step - loss: 0.2283 - accuracy: 0.9067\n",
            "Test Loss: 0.22832819819450378\n",
            "Test Accuracy: 0.9066666960716248\n"
          ]
        }
      ]
    },
    {
      "cell_type": "code",
      "source": [
        "#0\n",
        "\n",
        "input_sample=[0.51610874, 0.26720983, 0.34060596, 0.14895276, 0.24258903, 0.33843789, 0.87640675]\n",
        "len(input_sample)\n",
        "input_sample = np.array(input_sample).reshape(1, 7, 1)\n",
        "predictions = model.predict(input_sample)\n",
        "predictions\n",
        "\n",
        "threshold = 0.5\n",
        "binary_prediction = (predictions > threshold).astype(int)\n",
        "print(binary_prediction)\n"
      ],
      "metadata": {
        "colab": {
          "base_uri": "https://localhost:8080/"
        },
        "id": "Q5bo_ybl6-XN",
        "outputId": "dc4726fb-e091-4a2a-e8ca-b713e840e09a"
      },
      "execution_count": 40,
      "outputs": [
        {
          "output_type": "stream",
          "name": "stdout",
          "text": [
            "1/1 [==============================] - 0s 112ms/step\n",
            "[[0]]\n"
          ]
        }
      ]
    },
    {
      "cell_type": "code",
      "source": [
        "#1499\n",
        "x_scaled[1499]"
      ],
      "metadata": {
        "colab": {
          "base_uri": "https://localhost:8080/"
        },
        "id": "xyAg4qIp7Pnu",
        "outputId": "ee662c70-2e41-47bb-c66f-c915b3322a93"
      },
      "execution_count": 41,
      "outputs": [
        {
          "output_type": "execute_result",
          "data": {
            "text/plain": [
              "array([0.34326221, 0.56890261, 0.58409692, 0.32003246, 0.32146034,\n",
              "       0.47512885, 0.70391044])"
            ]
          },
          "metadata": {},
          "execution_count": 41
        }
      ]
    },
    {
      "cell_type": "code",
      "source": [
        "input_sample=[0.34326221, 0.56890261, 0.58409692, 0.32003246, 0.32146034,0.47512885, 0.70391044]\n",
        "len(input_sample)\n",
        "input_sample = np.array(input_sample).reshape(1, 7, 1)\n",
        "predictions = model.predict(input_sample)\n",
        "predictions\n",
        "\n",
        "threshold = 0.5\n",
        "binary_prediction = (predictions > threshold).astype(int)\n",
        "print(binary_prediction)"
      ],
      "metadata": {
        "colab": {
          "base_uri": "https://localhost:8080/"
        },
        "id": "xjk1IiTb7V4n",
        "outputId": "131fab2d-513a-4d03-ec97-47d674b8a710"
      },
      "execution_count": 42,
      "outputs": [
        {
          "output_type": "stream",
          "name": "stdout",
          "text": [
            "1/1 [==============================] - 0s 25ms/step\n",
            "[[0]]\n"
          ]
        }
      ]
    },
    {
      "cell_type": "code",
      "source": [
        "x_scaled[1500]"
      ],
      "metadata": {
        "colab": {
          "base_uri": "https://localhost:8080/"
        },
        "id": "6T1O6IW57epy",
        "outputId": "6aa206a0-ef7e-4256-b29b-19d0fdf97e11"
      },
      "execution_count": 45,
      "outputs": [
        {
          "output_type": "execute_result",
          "data": {
            "text/plain": [
              "array([0.28494146, 0.77691529, 0.93486349, 0.61852842, 0.72970897,\n",
              "       0.55838362, 0.16653333])"
            ]
          },
          "metadata": {},
          "execution_count": 45
        }
      ]
    },
    {
      "cell_type": "code",
      "source": [
        "#1500\n",
        "input_sample=[0.28494146, 0.77691529, 0.93486349, 0.61852842, 0.72970897,\n",
        "       0.55838362, 0.16653333]\n",
        "len(input_sample)\n",
        "input_sample = np.array(input_sample).reshape(1, 7, 1)\n",
        "predictions = model.predict(input_sample)\n",
        "predictions\n",
        "\n",
        "threshold = 0.5\n",
        "binary_prediction = (predictions > threshold).astype(int)\n",
        "print(binary_prediction)"
      ],
      "metadata": {
        "colab": {
          "base_uri": "https://localhost:8080/"
        },
        "id": "FUoZLxPp7gsO",
        "outputId": "563f562e-5c7a-42a7-9d03-9fabe37dabf6"
      },
      "execution_count": 46,
      "outputs": [
        {
          "output_type": "stream",
          "name": "stdout",
          "text": [
            "1/1 [==============================] - 0s 48ms/step\n",
            "[[1]]\n"
          ]
        }
      ]
    },
    {
      "cell_type": "code",
      "source": [
        "x_scaled[1300]"
      ],
      "metadata": {
        "colab": {
          "base_uri": "https://localhost:8080/"
        },
        "id": "0aZkeaGF7rHD",
        "outputId": "44ba0b83-b8aa-48ac-c77f-605f5bcc11c0"
      },
      "execution_count": 50,
      "outputs": [
        {
          "output_type": "execute_result",
          "data": {
            "text/plain": [
              "array([0.66072453, 0.44541321, 0.46179283, 0.15255829, 0.22048902,\n",
              "       0.19058921, 0.95032366])"
            ]
          },
          "metadata": {},
          "execution_count": 50
        }
      ]
    },
    {
      "cell_type": "code",
      "source": [
        "#2500\n",
        "input_sample=[0.2666987 , 0.49128238, 0.55277102, 0.35132052, 0.6995782 ,\n",
        "       0.43221213, 0.15522193]\n",
        "len(input_sample)\n",
        "input_sample = np.array(input_sample).reshape(1, 7, 1)\n",
        "predictions = model.predict(input_sample)\n",
        "predictions\n",
        "\n",
        "threshold = 0.5\n",
        "binary_prediction = (predictions > threshold).astype(int)\n",
        "print(binary_prediction)"
      ],
      "metadata": {
        "colab": {
          "base_uri": "https://localhost:8080/"
        },
        "id": "oqsRUi5L7uK-",
        "outputId": "7cd8f78d-4e99-48fe-8dd8-2a0c0810e6cd"
      },
      "execution_count": 49,
      "outputs": [
        {
          "output_type": "stream",
          "name": "stdout",
          "text": [
            "1/1 [==============================] - 0s 90ms/step\n",
            "[[1]]\n"
          ]
        }
      ]
    },
    {
      "cell_type": "code",
      "source": [
        "#1300\n",
        "input_sample=[0.66072453, 0.44541321, 0.46179283, 0.15255829, 0.22048902,\n",
        "       0.19058921, 0.95032366]\n",
        "len(input_sample)\n",
        "input_sample = np.array(input_sample).reshape(1, 7, 1)\n",
        "predictions = model.predict(input_sample)\n",
        "predictions\n",
        "\n",
        "threshold = 0.5\n",
        "binary_prediction = (predictions > threshold).astype(int)\n",
        "print(binary_prediction)"
      ],
      "metadata": {
        "colab": {
          "base_uri": "https://localhost:8080/"
        },
        "id": "8GPRyZbb71ht",
        "outputId": "31122648-1dd8-4597-ae75-3e308c94427b"
      },
      "execution_count": 51,
      "outputs": [
        {
          "output_type": "stream",
          "name": "stdout",
          "text": [
            "1/1 [==============================] - 0s 35ms/step\n",
            "[[0]]\n"
          ]
        }
      ]
    },
    {
      "cell_type": "code",
      "source": [
        "model.save('1D_CNN_CONTRAST.h5')"
      ],
      "metadata": {
        "id": "W6sQ2UQk7_0-"
      },
      "execution_count": 52,
      "outputs": []
    },
    {
      "cell_type": "code",
      "source": [],
      "metadata": {
        "id": "znR-dVD38PN1"
      },
      "execution_count": null,
      "outputs": []
    }
  ]
}