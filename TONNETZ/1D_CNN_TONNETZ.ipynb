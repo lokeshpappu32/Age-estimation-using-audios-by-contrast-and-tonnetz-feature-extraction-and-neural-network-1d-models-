{
  "nbformat": 4,
  "nbformat_minor": 0,
  "metadata": {
    "colab": {
      "provenance": []
    },
    "kernelspec": {
      "name": "python3",
      "display_name": "Python 3"
    },
    "language_info": {
      "name": "python"
    }
  },
  "cells": [
    {
      "cell_type": "code",
      "execution_count": 1,
      "metadata": {
        "id": "6y52kJZ-897l"
      },
      "outputs": [],
      "source": [
        "import pandas as pd\n",
        "import numpy as np\n",
        "from sklearn.preprocessing import MinMaxScaler,LabelEncoder"
      ]
    },
    {
      "cell_type": "code",
      "source": [
        "data=pd.read_csv(\"/content/TONNETZ_MAIN_DATASET.csv\")"
      ],
      "metadata": {
        "id": "IlRH2UlS9v0e"
      },
      "execution_count": 2,
      "outputs": []
    },
    {
      "cell_type": "code",
      "source": [
        "data.head()"
      ],
      "metadata": {
        "colab": {
          "base_uri": "https://localhost:8080/",
          "height": 206
        },
        "id": "_HrDrz_T92TO",
        "outputId": "c6d19340-a3b9-4c32-a2ed-f77a44b00efb"
      },
      "execution_count": 3,
      "outputs": [
        {
          "output_type": "execute_result",
          "data": {
            "text/plain": [
              "          0         1         2         3         4         5  gender  label\n",
              "0 -0.004285  0.000874 -0.008040 -0.004511  0.008020  0.015510  female  adult\n",
              "1 -0.036638 -0.008530 -0.017586  0.000417  0.023334 -0.005143  female  adult\n",
              "2 -0.004850 -0.009209  0.033581 -0.014310  0.001284 -0.006332  female  adult\n",
              "3  0.013007 -0.021556 -0.008847  0.014096  0.020131  0.000694  female  adult\n",
              "4  0.020138 -0.033240  0.038399 -0.023844 -0.000725  0.012618  female  adult"
            ],
            "text/html": [
              "\n",
              "  <div id=\"df-b3473a63-383d-49f7-8488-1fb2dc94276b\">\n",
              "    <div class=\"colab-df-container\">\n",
              "      <div>\n",
              "<style scoped>\n",
              "    .dataframe tbody tr th:only-of-type {\n",
              "        vertical-align: middle;\n",
              "    }\n",
              "\n",
              "    .dataframe tbody tr th {\n",
              "        vertical-align: top;\n",
              "    }\n",
              "\n",
              "    .dataframe thead th {\n",
              "        text-align: right;\n",
              "    }\n",
              "</style>\n",
              "<table border=\"1\" class=\"dataframe\">\n",
              "  <thead>\n",
              "    <tr style=\"text-align: right;\">\n",
              "      <th></th>\n",
              "      <th>0</th>\n",
              "      <th>1</th>\n",
              "      <th>2</th>\n",
              "      <th>3</th>\n",
              "      <th>4</th>\n",
              "      <th>5</th>\n",
              "      <th>gender</th>\n",
              "      <th>label</th>\n",
              "    </tr>\n",
              "  </thead>\n",
              "  <tbody>\n",
              "    <tr>\n",
              "      <th>0</th>\n",
              "      <td>-0.004285</td>\n",
              "      <td>0.000874</td>\n",
              "      <td>-0.008040</td>\n",
              "      <td>-0.004511</td>\n",
              "      <td>0.008020</td>\n",
              "      <td>0.015510</td>\n",
              "      <td>female</td>\n",
              "      <td>adult</td>\n",
              "    </tr>\n",
              "    <tr>\n",
              "      <th>1</th>\n",
              "      <td>-0.036638</td>\n",
              "      <td>-0.008530</td>\n",
              "      <td>-0.017586</td>\n",
              "      <td>0.000417</td>\n",
              "      <td>0.023334</td>\n",
              "      <td>-0.005143</td>\n",
              "      <td>female</td>\n",
              "      <td>adult</td>\n",
              "    </tr>\n",
              "    <tr>\n",
              "      <th>2</th>\n",
              "      <td>-0.004850</td>\n",
              "      <td>-0.009209</td>\n",
              "      <td>0.033581</td>\n",
              "      <td>-0.014310</td>\n",
              "      <td>0.001284</td>\n",
              "      <td>-0.006332</td>\n",
              "      <td>female</td>\n",
              "      <td>adult</td>\n",
              "    </tr>\n",
              "    <tr>\n",
              "      <th>3</th>\n",
              "      <td>0.013007</td>\n",
              "      <td>-0.021556</td>\n",
              "      <td>-0.008847</td>\n",
              "      <td>0.014096</td>\n",
              "      <td>0.020131</td>\n",
              "      <td>0.000694</td>\n",
              "      <td>female</td>\n",
              "      <td>adult</td>\n",
              "    </tr>\n",
              "    <tr>\n",
              "      <th>4</th>\n",
              "      <td>0.020138</td>\n",
              "      <td>-0.033240</td>\n",
              "      <td>0.038399</td>\n",
              "      <td>-0.023844</td>\n",
              "      <td>-0.000725</td>\n",
              "      <td>0.012618</td>\n",
              "      <td>female</td>\n",
              "      <td>adult</td>\n",
              "    </tr>\n",
              "  </tbody>\n",
              "</table>\n",
              "</div>\n",
              "      <button class=\"colab-df-convert\" onclick=\"convertToInteractive('df-b3473a63-383d-49f7-8488-1fb2dc94276b')\"\n",
              "              title=\"Convert this dataframe to an interactive table.\"\n",
              "              style=\"display:none;\">\n",
              "        \n",
              "  <svg xmlns=\"http://www.w3.org/2000/svg\" height=\"24px\"viewBox=\"0 0 24 24\"\n",
              "       width=\"24px\">\n",
              "    <path d=\"M0 0h24v24H0V0z\" fill=\"none\"/>\n",
              "    <path d=\"M18.56 5.44l.94 2.06.94-2.06 2.06-.94-2.06-.94-.94-2.06-.94 2.06-2.06.94zm-11 1L8.5 8.5l.94-2.06 2.06-.94-2.06-.94L8.5 2.5l-.94 2.06-2.06.94zm10 10l.94 2.06.94-2.06 2.06-.94-2.06-.94-.94-2.06-.94 2.06-2.06.94z\"/><path d=\"M17.41 7.96l-1.37-1.37c-.4-.4-.92-.59-1.43-.59-.52 0-1.04.2-1.43.59L10.3 9.45l-7.72 7.72c-.78.78-.78 2.05 0 2.83L4 21.41c.39.39.9.59 1.41.59.51 0 1.02-.2 1.41-.59l7.78-7.78 2.81-2.81c.8-.78.8-2.07 0-2.86zM5.41 20L4 18.59l7.72-7.72 1.47 1.35L5.41 20z\"/>\n",
              "  </svg>\n",
              "      </button>\n",
              "      \n",
              "  <style>\n",
              "    .colab-df-container {\n",
              "      display:flex;\n",
              "      flex-wrap:wrap;\n",
              "      gap: 12px;\n",
              "    }\n",
              "\n",
              "    .colab-df-convert {\n",
              "      background-color: #E8F0FE;\n",
              "      border: none;\n",
              "      border-radius: 50%;\n",
              "      cursor: pointer;\n",
              "      display: none;\n",
              "      fill: #1967D2;\n",
              "      height: 32px;\n",
              "      padding: 0 0 0 0;\n",
              "      width: 32px;\n",
              "    }\n",
              "\n",
              "    .colab-df-convert:hover {\n",
              "      background-color: #E2EBFA;\n",
              "      box-shadow: 0px 1px 2px rgba(60, 64, 67, 0.3), 0px 1px 3px 1px rgba(60, 64, 67, 0.15);\n",
              "      fill: #174EA6;\n",
              "    }\n",
              "\n",
              "    [theme=dark] .colab-df-convert {\n",
              "      background-color: #3B4455;\n",
              "      fill: #D2E3FC;\n",
              "    }\n",
              "\n",
              "    [theme=dark] .colab-df-convert:hover {\n",
              "      background-color: #434B5C;\n",
              "      box-shadow: 0px 1px 3px 1px rgba(0, 0, 0, 0.15);\n",
              "      filter: drop-shadow(0px 1px 2px rgba(0, 0, 0, 0.3));\n",
              "      fill: #FFFFFF;\n",
              "    }\n",
              "  </style>\n",
              "\n",
              "      <script>\n",
              "        const buttonEl =\n",
              "          document.querySelector('#df-b3473a63-383d-49f7-8488-1fb2dc94276b button.colab-df-convert');\n",
              "        buttonEl.style.display =\n",
              "          google.colab.kernel.accessAllowed ? 'block' : 'none';\n",
              "\n",
              "        async function convertToInteractive(key) {\n",
              "          const element = document.querySelector('#df-b3473a63-383d-49f7-8488-1fb2dc94276b');\n",
              "          const dataTable =\n",
              "            await google.colab.kernel.invokeFunction('convertToInteractive',\n",
              "                                                     [key], {});\n",
              "          if (!dataTable) return;\n",
              "\n",
              "          const docLinkHtml = 'Like what you see? Visit the ' +\n",
              "            '<a target=\"_blank\" href=https://colab.research.google.com/notebooks/data_table.ipynb>data table notebook</a>'\n",
              "            + ' to learn more about interactive tables.';\n",
              "          element.innerHTML = '';\n",
              "          dataTable['output_type'] = 'display_data';\n",
              "          await google.colab.output.renderOutput(dataTable, element);\n",
              "          const docLink = document.createElement('div');\n",
              "          docLink.innerHTML = docLinkHtml;\n",
              "          element.appendChild(docLink);\n",
              "        }\n",
              "      </script>\n",
              "    </div>\n",
              "  </div>\n",
              "  "
            ]
          },
          "metadata": {},
          "execution_count": 3
        }
      ]
    },
    {
      "cell_type": "code",
      "source": [
        "data.describe()"
      ],
      "metadata": {
        "colab": {
          "base_uri": "https://localhost:8080/",
          "height": 300
        },
        "id": "UuZ29FTK-AtM",
        "outputId": "039f0749-83e9-4acf-aa9a-e1f3f31f5ac2"
      },
      "execution_count": 4,
      "outputs": [
        {
          "output_type": "execute_result",
          "data": {
            "text/plain": [
              "                 0            1            2            3            4  \\\n",
              "count  3000.000000  3000.000000  3000.000000  3000.000000  3000.000000   \n",
              "mean     -0.000292    -0.001862    -0.000273    -0.004836    -0.000498   \n",
              "std       0.021933     0.023600     0.037760     0.037722     0.013531   \n",
              "min      -0.092923    -0.108172    -0.138073    -0.185432    -0.071165   \n",
              "25%      -0.013841    -0.016465    -0.023219    -0.026753    -0.009595   \n",
              "50%      -0.001582    -0.001713     0.001390    -0.002001    -0.000574   \n",
              "75%       0.012628     0.012661     0.022660     0.019105     0.008725   \n",
              "max       0.140881     0.149102     0.181792     0.130037     0.055538   \n",
              "\n",
              "                 5  \n",
              "count  3000.000000  \n",
              "mean      0.001475  \n",
              "std       0.012302  \n",
              "min      -0.070142  \n",
              "25%      -0.006360  \n",
              "50%       0.001264  \n",
              "75%       0.008967  \n",
              "max       0.062956  "
            ],
            "text/html": [
              "\n",
              "  <div id=\"df-b9c5a34d-3c37-4e25-85f6-393ea907da1a\">\n",
              "    <div class=\"colab-df-container\">\n",
              "      <div>\n",
              "<style scoped>\n",
              "    .dataframe tbody tr th:only-of-type {\n",
              "        vertical-align: middle;\n",
              "    }\n",
              "\n",
              "    .dataframe tbody tr th {\n",
              "        vertical-align: top;\n",
              "    }\n",
              "\n",
              "    .dataframe thead th {\n",
              "        text-align: right;\n",
              "    }\n",
              "</style>\n",
              "<table border=\"1\" class=\"dataframe\">\n",
              "  <thead>\n",
              "    <tr style=\"text-align: right;\">\n",
              "      <th></th>\n",
              "      <th>0</th>\n",
              "      <th>1</th>\n",
              "      <th>2</th>\n",
              "      <th>3</th>\n",
              "      <th>4</th>\n",
              "      <th>5</th>\n",
              "    </tr>\n",
              "  </thead>\n",
              "  <tbody>\n",
              "    <tr>\n",
              "      <th>count</th>\n",
              "      <td>3000.000000</td>\n",
              "      <td>3000.000000</td>\n",
              "      <td>3000.000000</td>\n",
              "      <td>3000.000000</td>\n",
              "      <td>3000.000000</td>\n",
              "      <td>3000.000000</td>\n",
              "    </tr>\n",
              "    <tr>\n",
              "      <th>mean</th>\n",
              "      <td>-0.000292</td>\n",
              "      <td>-0.001862</td>\n",
              "      <td>-0.000273</td>\n",
              "      <td>-0.004836</td>\n",
              "      <td>-0.000498</td>\n",
              "      <td>0.001475</td>\n",
              "    </tr>\n",
              "    <tr>\n",
              "      <th>std</th>\n",
              "      <td>0.021933</td>\n",
              "      <td>0.023600</td>\n",
              "      <td>0.037760</td>\n",
              "      <td>0.037722</td>\n",
              "      <td>0.013531</td>\n",
              "      <td>0.012302</td>\n",
              "    </tr>\n",
              "    <tr>\n",
              "      <th>min</th>\n",
              "      <td>-0.092923</td>\n",
              "      <td>-0.108172</td>\n",
              "      <td>-0.138073</td>\n",
              "      <td>-0.185432</td>\n",
              "      <td>-0.071165</td>\n",
              "      <td>-0.070142</td>\n",
              "    </tr>\n",
              "    <tr>\n",
              "      <th>25%</th>\n",
              "      <td>-0.013841</td>\n",
              "      <td>-0.016465</td>\n",
              "      <td>-0.023219</td>\n",
              "      <td>-0.026753</td>\n",
              "      <td>-0.009595</td>\n",
              "      <td>-0.006360</td>\n",
              "    </tr>\n",
              "    <tr>\n",
              "      <th>50%</th>\n",
              "      <td>-0.001582</td>\n",
              "      <td>-0.001713</td>\n",
              "      <td>0.001390</td>\n",
              "      <td>-0.002001</td>\n",
              "      <td>-0.000574</td>\n",
              "      <td>0.001264</td>\n",
              "    </tr>\n",
              "    <tr>\n",
              "      <th>75%</th>\n",
              "      <td>0.012628</td>\n",
              "      <td>0.012661</td>\n",
              "      <td>0.022660</td>\n",
              "      <td>0.019105</td>\n",
              "      <td>0.008725</td>\n",
              "      <td>0.008967</td>\n",
              "    </tr>\n",
              "    <tr>\n",
              "      <th>max</th>\n",
              "      <td>0.140881</td>\n",
              "      <td>0.149102</td>\n",
              "      <td>0.181792</td>\n",
              "      <td>0.130037</td>\n",
              "      <td>0.055538</td>\n",
              "      <td>0.062956</td>\n",
              "    </tr>\n",
              "  </tbody>\n",
              "</table>\n",
              "</div>\n",
              "      <button class=\"colab-df-convert\" onclick=\"convertToInteractive('df-b9c5a34d-3c37-4e25-85f6-393ea907da1a')\"\n",
              "              title=\"Convert this dataframe to an interactive table.\"\n",
              "              style=\"display:none;\">\n",
              "        \n",
              "  <svg xmlns=\"http://www.w3.org/2000/svg\" height=\"24px\"viewBox=\"0 0 24 24\"\n",
              "       width=\"24px\">\n",
              "    <path d=\"M0 0h24v24H0V0z\" fill=\"none\"/>\n",
              "    <path d=\"M18.56 5.44l.94 2.06.94-2.06 2.06-.94-2.06-.94-.94-2.06-.94 2.06-2.06.94zm-11 1L8.5 8.5l.94-2.06 2.06-.94-2.06-.94L8.5 2.5l-.94 2.06-2.06.94zm10 10l.94 2.06.94-2.06 2.06-.94-2.06-.94-.94-2.06-.94 2.06-2.06.94z\"/><path d=\"M17.41 7.96l-1.37-1.37c-.4-.4-.92-.59-1.43-.59-.52 0-1.04.2-1.43.59L10.3 9.45l-7.72 7.72c-.78.78-.78 2.05 0 2.83L4 21.41c.39.39.9.59 1.41.59.51 0 1.02-.2 1.41-.59l7.78-7.78 2.81-2.81c.8-.78.8-2.07 0-2.86zM5.41 20L4 18.59l7.72-7.72 1.47 1.35L5.41 20z\"/>\n",
              "  </svg>\n",
              "      </button>\n",
              "      \n",
              "  <style>\n",
              "    .colab-df-container {\n",
              "      display:flex;\n",
              "      flex-wrap:wrap;\n",
              "      gap: 12px;\n",
              "    }\n",
              "\n",
              "    .colab-df-convert {\n",
              "      background-color: #E8F0FE;\n",
              "      border: none;\n",
              "      border-radius: 50%;\n",
              "      cursor: pointer;\n",
              "      display: none;\n",
              "      fill: #1967D2;\n",
              "      height: 32px;\n",
              "      padding: 0 0 0 0;\n",
              "      width: 32px;\n",
              "    }\n",
              "\n",
              "    .colab-df-convert:hover {\n",
              "      background-color: #E2EBFA;\n",
              "      box-shadow: 0px 1px 2px rgba(60, 64, 67, 0.3), 0px 1px 3px 1px rgba(60, 64, 67, 0.15);\n",
              "      fill: #174EA6;\n",
              "    }\n",
              "\n",
              "    [theme=dark] .colab-df-convert {\n",
              "      background-color: #3B4455;\n",
              "      fill: #D2E3FC;\n",
              "    }\n",
              "\n",
              "    [theme=dark] .colab-df-convert:hover {\n",
              "      background-color: #434B5C;\n",
              "      box-shadow: 0px 1px 3px 1px rgba(0, 0, 0, 0.15);\n",
              "      filter: drop-shadow(0px 1px 2px rgba(0, 0, 0, 0.3));\n",
              "      fill: #FFFFFF;\n",
              "    }\n",
              "  </style>\n",
              "\n",
              "      <script>\n",
              "        const buttonEl =\n",
              "          document.querySelector('#df-b9c5a34d-3c37-4e25-85f6-393ea907da1a button.colab-df-convert');\n",
              "        buttonEl.style.display =\n",
              "          google.colab.kernel.accessAllowed ? 'block' : 'none';\n",
              "\n",
              "        async function convertToInteractive(key) {\n",
              "          const element = document.querySelector('#df-b9c5a34d-3c37-4e25-85f6-393ea907da1a');\n",
              "          const dataTable =\n",
              "            await google.colab.kernel.invokeFunction('convertToInteractive',\n",
              "                                                     [key], {});\n",
              "          if (!dataTable) return;\n",
              "\n",
              "          const docLinkHtml = 'Like what you see? Visit the ' +\n",
              "            '<a target=\"_blank\" href=https://colab.research.google.com/notebooks/data_table.ipynb>data table notebook</a>'\n",
              "            + ' to learn more about interactive tables.';\n",
              "          element.innerHTML = '';\n",
              "          dataTable['output_type'] = 'display_data';\n",
              "          await google.colab.output.renderOutput(dataTable, element);\n",
              "          const docLink = document.createElement('div');\n",
              "          docLink.innerHTML = docLinkHtml;\n",
              "          element.appendChild(docLink);\n",
              "        }\n",
              "      </script>\n",
              "    </div>\n",
              "  </div>\n",
              "  "
            ]
          },
          "metadata": {},
          "execution_count": 4
        }
      ]
    },
    {
      "cell_type": "code",
      "source": [
        "data.info()"
      ],
      "metadata": {
        "colab": {
          "base_uri": "https://localhost:8080/"
        },
        "id": "c_3PyJo9-FaN",
        "outputId": "3c4cf00d-f86c-4ce9-ec67-e2a4db64c5c3"
      },
      "execution_count": 5,
      "outputs": [
        {
          "output_type": "stream",
          "name": "stdout",
          "text": [
            "<class 'pandas.core.frame.DataFrame'>\n",
            "RangeIndex: 3000 entries, 0 to 2999\n",
            "Data columns (total 8 columns):\n",
            " #   Column  Non-Null Count  Dtype  \n",
            "---  ------  --------------  -----  \n",
            " 0   0       3000 non-null   float64\n",
            " 1   1       3000 non-null   float64\n",
            " 2   2       3000 non-null   float64\n",
            " 3   3       3000 non-null   float64\n",
            " 4   4       3000 non-null   float64\n",
            " 5   5       3000 non-null   float64\n",
            " 6   gender  3000 non-null   object \n",
            " 7   label   3000 non-null   object \n",
            "dtypes: float64(6), object(2)\n",
            "memory usage: 187.6+ KB\n"
          ]
        }
      ]
    },
    {
      "cell_type": "code",
      "source": [
        "data.isnull().sum()"
      ],
      "metadata": {
        "colab": {
          "base_uri": "https://localhost:8080/"
        },
        "id": "cgLQIsRf-GTl",
        "outputId": "5c1c0ca3-f0d2-460b-e4f5-d4d243fe2a9d"
      },
      "execution_count": 6,
      "outputs": [
        {
          "output_type": "execute_result",
          "data": {
            "text/plain": [
              "0         0\n",
              "1         0\n",
              "2         0\n",
              "3         0\n",
              "4         0\n",
              "5         0\n",
              "gender    0\n",
              "label     0\n",
              "dtype: int64"
            ]
          },
          "metadata": {},
          "execution_count": 6
        }
      ]
    },
    {
      "cell_type": "code",
      "source": [
        "x=data.iloc[:,:-2]"
      ],
      "metadata": {
        "id": "6SyzUr7M-IU2"
      },
      "execution_count": 7,
      "outputs": []
    },
    {
      "cell_type": "code",
      "source": [
        "y=data.iloc[:,-1]"
      ],
      "metadata": {
        "id": "ijGhA1GX-SkA"
      },
      "execution_count": 8,
      "outputs": []
    },
    {
      "cell_type": "code",
      "source": [
        "scaler=MinMaxScaler()\n",
        "x_scaled=scaler.fit_transform(x)\n",
        "x_scaled[0]"
      ],
      "metadata": {
        "colab": {
          "base_uri": "https://localhost:8080/"
        },
        "id": "Bb8N_a8N-Umq",
        "outputId": "b437a8bf-2dc4-4946-f622-026ddc906ded"
      },
      "execution_count": 9,
      "outputs": [
        {
          "output_type": "execute_result",
          "data": {
            "text/plain": [
              "array([0.37911213, 0.42384908, 0.40652365, 0.57349914, 0.62496499,\n",
              "       0.64352299])"
            ]
          },
          "metadata": {},
          "execution_count": 9
        }
      ]
    },
    {
      "cell_type": "code",
      "source": [
        "label_encoder=LabelEncoder()\n",
        "y=label_encoder.fit_transform(y)\n",
        "y"
      ],
      "metadata": {
        "colab": {
          "base_uri": "https://localhost:8080/"
        },
        "id": "w1d38t-Q-Z2v",
        "outputId": "5c6c0305-d7cb-4f59-c04c-4b9d69e74a94"
      },
      "execution_count": 10,
      "outputs": [
        {
          "output_type": "execute_result",
          "data": {
            "text/plain": [
              "array([0, 0, 0, ..., 1, 1, 1])"
            ]
          },
          "metadata": {},
          "execution_count": 10
        }
      ]
    },
    {
      "cell_type": "code",
      "source": [
        "import numpy as np\n",
        "import random\n",
        "import tensorflow as tf\n",
        "\n",
        "# Set random seed for reproducibility\n",
        "np.random.seed(42)\n",
        "random.seed(42)\n",
        "tf.random.set_seed(42)"
      ],
      "metadata": {
        "id": "--DLyS86-dWV"
      },
      "execution_count": 11,
      "outputs": []
    },
    {
      "cell_type": "code",
      "source": [
        "from sklearn.model_selection import train_test_split\n",
        "x_train, x_test, y_train, y_test = train_test_split(x_scaled, y, test_size=0.15, random_state=42)"
      ],
      "metadata": {
        "id": "Q4L-Eq2--fXS"
      },
      "execution_count": 12,
      "outputs": []
    },
    {
      "cell_type": "code",
      "source": [
        "x_train = np.array(x_train).reshape(-1, 6, 1)\n",
        "x_test = np.array(x_test).reshape(-1, 6, 1)"
      ],
      "metadata": {
        "id": "8dOdksLU-hlx"
      },
      "execution_count": 13,
      "outputs": []
    },
    {
      "cell_type": "code",
      "source": [
        "from tensorflow.keras.models import Sequential\n",
        "from tensorflow.keras.layers import Conv1D, MaxPooling1D, Flatten, Dense,Dropout"
      ],
      "metadata": {
        "id": "7q_8UXLo-lvz"
      },
      "execution_count": 14,
      "outputs": []
    },
    {
      "cell_type": "code",
      "source": [
        "# Create a Conv1D model\n",
        "model = Sequential()\n",
        "model.add(Conv1D(32, kernel_size=3, activation='relu', input_shape=(6, 1)))\n",
        "model.add(Dropout(0.2))\n",
        "model.add(MaxPooling1D(pool_size=2))\n",
        "model.add(Dropout(0.2))\n",
        "model.add(Flatten())\n",
        "model.add(Dense(128, activation='relu'))\n",
        "model.add(Dropout(0.2))\n",
        "model.add(Dense(1, activation='sigmoid'))"
      ],
      "metadata": {
        "id": "VB6Qu7Jk-odu"
      },
      "execution_count": 21,
      "outputs": []
    },
    {
      "cell_type": "code",
      "source": [
        "# Compile and train the model\n",
        "model.compile(loss='binary_crossentropy', optimizer='adam', metrics=['accuracy'])\n",
        "model.fit(x_train, y_train, epochs=27, batch_size=32, validation_data=(x_test, y_test))"
      ],
      "metadata": {
        "colab": {
          "base_uri": "https://localhost:8080/"
        },
        "id": "OyVtHM7p-_DO",
        "outputId": "9195f323-9f6b-470b-8bc5-4824a5ef0a36"
      },
      "execution_count": 22,
      "outputs": [
        {
          "output_type": "stream",
          "name": "stdout",
          "text": [
            "Epoch 1/27\n",
            "80/80 [==============================] - 1s 4ms/step - loss: 0.6861 - accuracy: 0.5420 - val_loss: 0.6711 - val_accuracy: 0.6800\n",
            "Epoch 2/27\n",
            "80/80 [==============================] - 0s 2ms/step - loss: 0.6627 - accuracy: 0.6322 - val_loss: 0.6466 - val_accuracy: 0.6378\n",
            "Epoch 3/27\n",
            "80/80 [==============================] - 0s 2ms/step - loss: 0.6454 - accuracy: 0.6333 - val_loss: 0.6231 - val_accuracy: 0.6822\n",
            "Epoch 4/27\n",
            "80/80 [==============================] - 0s 2ms/step - loss: 0.6328 - accuracy: 0.6424 - val_loss: 0.6113 - val_accuracy: 0.6756\n",
            "Epoch 5/27\n",
            "80/80 [==============================] - 0s 2ms/step - loss: 0.6308 - accuracy: 0.6424 - val_loss: 0.6023 - val_accuracy: 0.7111\n",
            "Epoch 6/27\n",
            "80/80 [==============================] - 0s 2ms/step - loss: 0.6211 - accuracy: 0.6541 - val_loss: 0.5963 - val_accuracy: 0.6933\n",
            "Epoch 7/27\n",
            "80/80 [==============================] - 0s 2ms/step - loss: 0.6241 - accuracy: 0.6455 - val_loss: 0.5956 - val_accuracy: 0.6778\n",
            "Epoch 8/27\n",
            "80/80 [==============================] - 0s 3ms/step - loss: 0.6219 - accuracy: 0.6502 - val_loss: 0.5919 - val_accuracy: 0.7089\n",
            "Epoch 9/27\n",
            "80/80 [==============================] - 0s 2ms/step - loss: 0.6150 - accuracy: 0.6565 - val_loss: 0.5860 - val_accuracy: 0.6978\n",
            "Epoch 10/27\n",
            "80/80 [==============================] - 0s 2ms/step - loss: 0.6173 - accuracy: 0.6522 - val_loss: 0.5869 - val_accuracy: 0.7044\n",
            "Epoch 11/27\n",
            "80/80 [==============================] - 0s 2ms/step - loss: 0.6147 - accuracy: 0.6529 - val_loss: 0.5814 - val_accuracy: 0.7067\n",
            "Epoch 12/27\n",
            "80/80 [==============================] - 0s 2ms/step - loss: 0.6165 - accuracy: 0.6596 - val_loss: 0.5811 - val_accuracy: 0.6978\n",
            "Epoch 13/27\n",
            "80/80 [==============================] - 0s 2ms/step - loss: 0.6104 - accuracy: 0.6576 - val_loss: 0.5789 - val_accuracy: 0.7044\n",
            "Epoch 14/27\n",
            "80/80 [==============================] - 0s 2ms/step - loss: 0.6061 - accuracy: 0.6553 - val_loss: 0.5768 - val_accuracy: 0.7044\n",
            "Epoch 15/27\n",
            "80/80 [==============================] - 0s 2ms/step - loss: 0.6117 - accuracy: 0.6545 - val_loss: 0.5756 - val_accuracy: 0.7156\n",
            "Epoch 16/27\n",
            "80/80 [==============================] - 0s 2ms/step - loss: 0.6123 - accuracy: 0.6545 - val_loss: 0.5765 - val_accuracy: 0.7089\n",
            "Epoch 17/27\n",
            "80/80 [==============================] - 0s 2ms/step - loss: 0.6095 - accuracy: 0.6549 - val_loss: 0.5769 - val_accuracy: 0.6933\n",
            "Epoch 18/27\n",
            "80/80 [==============================] - 0s 2ms/step - loss: 0.6100 - accuracy: 0.6576 - val_loss: 0.5760 - val_accuracy: 0.7067\n",
            "Epoch 19/27\n",
            "80/80 [==============================] - 0s 2ms/step - loss: 0.6075 - accuracy: 0.6518 - val_loss: 0.5761 - val_accuracy: 0.7133\n",
            "Epoch 20/27\n",
            "80/80 [==============================] - 0s 2ms/step - loss: 0.6053 - accuracy: 0.6729 - val_loss: 0.5779 - val_accuracy: 0.7000\n",
            "Epoch 21/27\n",
            "80/80 [==============================] - 0s 2ms/step - loss: 0.6079 - accuracy: 0.6514 - val_loss: 0.5701 - val_accuracy: 0.7244\n",
            "Epoch 22/27\n",
            "80/80 [==============================] - 0s 2ms/step - loss: 0.6045 - accuracy: 0.6647 - val_loss: 0.5693 - val_accuracy: 0.7267\n",
            "Epoch 23/27\n",
            "80/80 [==============================] - 0s 2ms/step - loss: 0.6007 - accuracy: 0.6675 - val_loss: 0.5683 - val_accuracy: 0.7222\n",
            "Epoch 24/27\n",
            "80/80 [==============================] - 0s 2ms/step - loss: 0.6017 - accuracy: 0.6663 - val_loss: 0.5718 - val_accuracy: 0.7067\n",
            "Epoch 25/27\n",
            "80/80 [==============================] - 0s 2ms/step - loss: 0.6016 - accuracy: 0.6624 - val_loss: 0.5668 - val_accuracy: 0.7089\n",
            "Epoch 26/27\n",
            "80/80 [==============================] - 0s 2ms/step - loss: 0.6016 - accuracy: 0.6667 - val_loss: 0.5740 - val_accuracy: 0.7022\n",
            "Epoch 27/27\n",
            "80/80 [==============================] - 0s 2ms/step - loss: 0.5972 - accuracy: 0.6624 - val_loss: 0.5648 - val_accuracy: 0.7133\n"
          ]
        },
        {
          "output_type": "execute_result",
          "data": {
            "text/plain": [
              "<keras.callbacks.History at 0x7f9f9e197a30>"
            ]
          },
          "metadata": {},
          "execution_count": 22
        }
      ]
    },
    {
      "cell_type": "code",
      "source": [
        "from tensorflow.keras.models import Sequential\n",
        "from tensorflow.keras.layers import Conv1D, MaxPooling1D, Flatten, Dense, Dropout, BatchNormalization\n",
        "from tensorflow.keras.regularizers import l2\n",
        "from tensorflow.keras.callbacks import EarlyStopping"
      ],
      "metadata": {
        "id": "J3y0W1tG_PAw"
      },
      "execution_count": 23,
      "outputs": []
    },
    {
      "cell_type": "code",
      "source": [
        "# Create a Conv1D model\n",
        "#model = Sequential()\n",
        "#model.add(Conv1D(32, kernel_size=3, activation='tanh', input_shape=(6, 1)))\n",
        "#model.add(BatchNormalization())\n",
        "#model.add(Dropout(0.2))\n",
        "#model.add(MaxPooling1D(pool_size=2))\n",
        "#model.add(Dropout(0.2))\n",
        "#model.add(Flatten())\n",
        "#model.add(Dense(128, activation='tanh', kernel_regularizer=l2(0.001)))\n",
        "#model.add(BatchNormalization())\n",
        "#model.add(Dropout(0.5))\n",
        "#model.add(Dense(1, activation='softmax'))"
      ],
      "metadata": {
        "id": "JHksymmLAlPM"
      },
      "execution_count": 105,
      "outputs": []
    },
    {
      "cell_type": "code",
      "source": [
        "from tensorflow.keras.optimizers import RMSprop\n",
        "optimizer = RMSprop(learning_rate=0.00001)\n",
        "model.compile(loss='binary_crossentropy', optimizer=optimizer, metrics=['accuracy'])\n",
        "\n",
        "# Define early stopping callback\n",
        "early_stop = EarlyStopping(monitor='val_loss', patience=5, restore_best_weights=True)\n",
        "\n",
        "# Train the model\n",
        "history = model.fit(x_train, y_train, epochs=2, batch_size=32, validation_data=(x_test, y_test), callbacks=[early_stop])\n"
      ],
      "metadata": {
        "colab": {
          "base_uri": "https://localhost:8080/"
        },
        "id": "O23mmf6lA9oE",
        "outputId": "d2a44a2c-f593-4318-8d0e-8398f88cca1c"
      },
      "execution_count": 108,
      "outputs": [
        {
          "output_type": "stream",
          "name": "stdout",
          "text": [
            "Epoch 1/2\n",
            "80/80 [==============================] - 2s 5ms/step - loss: 0.5430 - accuracy: 0.7263 - val_loss: 0.5170 - val_accuracy: 0.7311\n",
            "Epoch 2/2\n",
            "80/80 [==============================] - 0s 3ms/step - loss: 0.5395 - accuracy: 0.7373 - val_loss: 0.5175 - val_accuracy: 0.7333\n"
          ]
        }
      ]
    },
    {
      "cell_type": "code",
      "source": [
        "x_scaled[0]"
      ],
      "metadata": {
        "colab": {
          "base_uri": "https://localhost:8080/"
        },
        "id": "1CSvA8fmDW5p",
        "outputId": "d77640fa-e8d5-4f72-d377-052c0bdcb9a6"
      },
      "execution_count": 109,
      "outputs": [
        {
          "output_type": "execute_result",
          "data": {
            "text/plain": [
              "array([0.37911213, 0.42384908, 0.40652365, 0.57349914, 0.62496499,\n",
              "       0.64352299])"
            ]
          },
          "metadata": {},
          "execution_count": 109
        }
      ]
    },
    {
      "cell_type": "code",
      "source": [
        "#0\n",
        "\n",
        "input_sample=[.37911213, 0.42384908, 0.40652365, 0.57349914, 0.62496499,\n",
        "       0.64352299]\n",
        "len(input_sample)\n",
        "input_sample = np.array(input_sample).reshape(1, 6, 1)\n",
        "predictions = model.predict(input_sample)\n",
        "predictions\n",
        "\n",
        "threshold = 0.5\n",
        "binary_prediction = (predictions > threshold).astype(int)\n",
        "print(binary_prediction)"
      ],
      "metadata": {
        "colab": {
          "base_uri": "https://localhost:8080/"
        },
        "id": "cd2q3lqrFXhg",
        "outputId": "fae53d21-113b-4ec7-bf91-c7b9cf9c7c74"
      },
      "execution_count": 110,
      "outputs": [
        {
          "output_type": "stream",
          "name": "stdout",
          "text": [
            "1/1 [==============================] - 0s 98ms/step\n",
            "[[0]]\n"
          ]
        }
      ]
    },
    {
      "cell_type": "code",
      "source": [
        "#!499\n",
        "x_scaled[1499]"
      ],
      "metadata": {
        "colab": {
          "base_uri": "https://localhost:8080/"
        },
        "id": "Sx7tRraFGiRJ",
        "outputId": "27e88f65-62ab-4acc-9df2-712dbabf973a"
      },
      "execution_count": 111,
      "outputs": [
        {
          "output_type": "execute_result",
          "data": {
            "text/plain": [
              "array([0.34439297, 0.35656666, 0.43755037, 0.51748243, 0.54997412,\n",
              "       0.59019192])"
            ]
          },
          "metadata": {},
          "execution_count": 111
        }
      ]
    },
    {
      "cell_type": "code",
      "source": [
        "input_sample=[0.34439297, 0.35656666, 0.43755037, 0.51748243, 0.54997412,\n",
        "       0.59019192]\n",
        "len(input_sample)\n",
        "input_sample = np.array(input_sample).reshape(1, 6, 1)\n",
        "predictions = model.predict(input_sample)\n",
        "predictions\n",
        "\n",
        "threshold = 0.5\n",
        "binary_prediction = (predictions > threshold).astype(int)\n",
        "print(binary_prediction)"
      ],
      "metadata": {
        "colab": {
          "base_uri": "https://localhost:8080/"
        },
        "id": "coZliQYtGo-F",
        "outputId": "9b1f6055-5023-4ac7-f2ae-fd3cb0c0fe4a"
      },
      "execution_count": 112,
      "outputs": [
        {
          "output_type": "stream",
          "name": "stdout",
          "text": [
            "1/1 [==============================] - 0s 16ms/step\n",
            "[[0]]\n"
          ]
        }
      ]
    },
    {
      "cell_type": "code",
      "source": [
        "#1500\n",
        "\n",
        "x_scaled[1500]\n"
      ],
      "metadata": {
        "colab": {
          "base_uri": "https://localhost:8080/"
        },
        "id": "YYOz4Yg3GvYE",
        "outputId": "c63837db-867d-4d0a-f4e1-82270049b8f2"
      },
      "execution_count": 113,
      "outputs": [
        {
          "output_type": "execute_result",
          "data": {
            "text/plain": [
              "array([0.53707461, 0.64975321, 0.7026934 , 0.74577167, 0.45572837,\n",
              "       0.76473337])"
            ]
          },
          "metadata": {},
          "execution_count": 113
        }
      ]
    },
    {
      "cell_type": "code",
      "source": [
        "input_sample=[0.53707461, 0.64975321, 0.7026934 , 0.74577167, 0.45572837,\n",
        "       0.76473337]\n",
        "len(input_sample)\n",
        "input_sample = np.array(input_sample).reshape(1, 6, 1)\n",
        "predictions = model.predict(input_sample)\n",
        "predictions\n",
        "\n",
        "threshold = 0.5\n",
        "binary_prediction = (predictions > threshold).astype(int)\n",
        "print(binary_prediction)"
      ],
      "metadata": {
        "colab": {
          "base_uri": "https://localhost:8080/"
        },
        "id": "Hl4Hl1grG8U-",
        "outputId": "a230488e-7b2c-4421-bd51-d7207a989aa6"
      },
      "execution_count": 114,
      "outputs": [
        {
          "output_type": "stream",
          "name": "stdout",
          "text": [
            "1/1 [==============================] - 0s 18ms/step\n",
            "[[1]]\n"
          ]
        }
      ]
    },
    {
      "cell_type": "code",
      "source": [
        "#2500\n",
        "input_sample=[0.53707461, 0.64975321, 0.7026934 , 0.74577167, 0.45572837,\n",
        "       0.76473337]\n",
        "len(input_sample)\n",
        "input_sample = np.array(input_sample).reshape(1, 6, 1)\n",
        "predictions = model.predict(input_sample)\n",
        "predictions\n",
        "\n",
        "threshold = 0.5\n",
        "binary_prediction = (predictions > threshold).astype(int)\n",
        "print(binary_prediction)"
      ],
      "metadata": {
        "colab": {
          "base_uri": "https://localhost:8080/"
        },
        "id": "aS3puVoOIrBk",
        "outputId": "5526d843-28ce-46ca-f24d-63a085bfcb9a"
      },
      "execution_count": 116,
      "outputs": [
        {
          "output_type": "stream",
          "name": "stdout",
          "text": [
            "1/1 [==============================] - 0s 16ms/step\n",
            "[[1]]\n"
          ]
        }
      ]
    },
    {
      "cell_type": "code",
      "source": [
        "model.save('1D_CNN_TONNETZ.h5')"
      ],
      "metadata": {
        "id": "fB-E0akuHBYk"
      },
      "execution_count": 118,
      "outputs": []
    },
    {
      "cell_type": "code",
      "source": [],
      "metadata": {
        "id": "R4_j8hhwHFOY"
      },
      "execution_count": 106,
      "outputs": []
    },
    {
      "cell_type": "code",
      "source": [],
      "metadata": {
        "id": "1M1IpdvdHKkr"
      },
      "execution_count": null,
      "outputs": []
    }
  ]
}